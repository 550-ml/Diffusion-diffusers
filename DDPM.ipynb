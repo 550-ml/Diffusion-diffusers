{
 "cells": [
  {
   "cell_type": "markdown",
   "metadata": {},
   "source": [
    "## DDPM"
   ]
  },
  {
   "cell_type": "code",
   "execution_count": 23,
   "metadata": {},
   "outputs": [],
   "source": [
    "import torch\n",
    "import torch.nn as nn\n",
    "\n",
    "class FakeUNet(nn.Module):\n",
    "    def __init__(self) -> None:\n",
    "        super().__init__()\n",
    "        self.linear = nn.Linear(28 *28, 28*28)\n",
    "    \n",
    "    def forward(self, x, t):\n",
    "        x = x.view(x.size(0), -1)\n",
    "        x = self.linear(x)\n",
    "        return x.view(x.size(0), 1, 28, 28)\n",
    "    \n",
    "    "
   ]
  },
  {
   "cell_type": "code",
   "execution_count": 25,
   "metadata": {},
   "outputs": [
    {
     "name": "stdout",
     "output_type": "stream",
     "text": [
      "forward pass: noisy_image.shape torch.Size([1, 1, 28, 28])\n",
      "backward pass: predict_noise.shape torch.Size([1, 1, 28, 28])\n"
     ]
    }
   ],
   "source": [
    "class MyDDPM(nn.Module):\n",
    "    def __init__(self, network, n_steps=200, min_beta=10**(-4), max_beta=0.02, device=None, image_chw=(1, 28, 28)) -> None:\n",
    "        super().__init__()\n",
    "        self.n_steps = n_steps\n",
    "        self.device = device\n",
    "        self.image_chw = image_chw\n",
    "        self.network = network.to(device)\n",
    "        self.betas = torch.linspace(min_beta, max_beta, n_steps).to(device)\n",
    "        self.alphas = 1- self.betas\n",
    "        # self.alpha_bars = \n",
    "        # alpha_bars_list = []\n",
    "        # for i in range(len(self.alphas)):\n",
    "        #     alpha_bars_list.append(torch.prod(self.alphas[:i+1]))\n",
    "        # self.alpha_bars = torch.tensor(alpha_bars_list).to(device)\n",
    "        \n",
    "        self.alpha_bars = torch.tensor([torch.prod(self.alphas[:i+1]) for i in range(len(self.alphas))]).to(device)\n",
    "\n",
    "    def forward(self, x0, t, eta=None):\n",
    "        n, c, h, w = x0.shape\n",
    "        a_bar = self.alpha_bars[t]\n",
    "        \n",
    "        if eta is None:\n",
    "            eta = torch.randn(n, c, h, w).to(self.device) # create noise\n",
    "        \n",
    "        noisy = a_bar.sqrt().reshape(n, 1, 1, 1) * x0 + (1 - a_bar).sqrt().reshape(n, 1, 1, 1) * eta\n",
    "        return noisy\n",
    "    \n",
    "    def backword(self, x, t):\n",
    "        return self.network(x, t)\n",
    "    \n",
    "if __name__ == \"__main__\":\n",
    "    device = torch.device('cuda' if torch.cuda.is_available() else 'cpu')\n",
    "    network = FakeUNet().to(device)\n",
    "    ddpm = MyDDPM(network, device=device)\n",
    "    x0 = torch.randn(1, 1, 28, 28).to(device)\n",
    "    t = torch.randint(0, ddpm.n_steps, (1,)).to(device)\n",
    "    \n",
    "    # [1, 1, 28, 28]\n",
    "    noisy_image = ddpm(x0, t)\n",
    "    print(\"forward pass: noisy_image.shape\", noisy_image.shape)\n",
    "    predict_noise = ddpm.backword(noisy_image, t)\n",
    "    print(\"backward pass: predict_noise.shape\", predict_noise.shape)"
   ]
  },
  {
   "cell_type": "markdown",
   "metadata": {},
   "source": [
    "## UNet"
   ]
  },
  {
   "cell_type": "code",
   "execution_count": null,
   "metadata": {},
   "outputs": [],
   "source": [
    "# unet.jpg\n",
    "def sinusoidal_embedding(n, d):\n",
    "    embedding = torch.zeros(n, d)\n",
    "    wk = torch.tensor([1 / 1])"
   ]
  }
 ],
 "metadata": {
  "kernelspec": {
   "display_name": "d2l",
   "language": "python",
   "name": "python3"
  },
  "language_info": {
   "codemirror_mode": {
    "name": "ipython",
    "version": 3
   },
   "file_extension": ".py",
   "mimetype": "text/x-python",
   "name": "python",
   "nbconvert_exporter": "python",
   "pygments_lexer": "ipython3",
   "version": "3.8.16"
  }
 },
 "nbformat": 4,
 "nbformat_minor": 2
}
