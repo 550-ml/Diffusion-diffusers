{
 "cells": [
  {
   "cell_type": "code",
   "execution_count": 1,
   "metadata": {},
   "outputs": [],
   "source": [
    "import random\n",
    "import imageio\n",
    "import numpy as np\n",
    "from argparse import ArgumentParser\n",
    "\n",
    "from tqdm.auto import tqdm\n",
    "import matplotlib.pyplot as plt\n",
    "\n",
    "import einops # git visualization\n",
    "import torch\n",
    "import torch.nn as nn\n",
    "from torch.optim import Adam\n",
    "from torch.utils.data import DataLoader\n",
    "\n",
    "from torchvision.transforms import Compose, ToTensor, Lambda  # preprocessing\n",
    "from torchvision.datasets.mnist import MNIST, FashionMNIST # Dataset\n",
    "\n",
    "\n"
   ]
  },
  {
   "cell_type": "code",
   "execution_count": null,
   "metadata": {},
   "outputs": [],
   "source": [
    "fashion = True\n",
    "train_flag = True\n"
   ]
  },
  {
   "cell_type": "markdown",
   "metadata": {},
   "source": [
    "## Training"
   ]
  },
  {
   "cell_type": "code",
   "execution_count": null,
   "metadata": {},
   "outputs": [],
   "source": [
    "def training_loop(ddpm, loader, n_epochs, optim, device, display=False, store_path = \"ddpm_model.path\"):\n",
    "    mse = nn.MSELoss()\n",
    "    best_loss = float('inf')\n",
    "    n_steps = ddpm.n_steps\n",
    "    \n",
    "    # 循环\n",
    "    for epoch in tqdm(range(n_epochs), desc=\"Training progress\", color = \"#00fff00\"):\n",
    "        epoch_loss = 0\n",
    "        for step, batch in enumerate(tqdm(loader, leave=False, desc = f\"Epoch {epoch+1}/{n_epochs}\", colour=\"#00ff00\")):\n",
    "            # loading data \n",
    "            x0 = batch[0].to(device)\n",
    "            n = len(x0)\n",
    "            \n",
    "            # forward pass\n",
    "            noisy_imgs = ddpm(x0, t, eta)  # [128, 1, 28, 28]\n",
    "\n",
    "            # backward pass\n",
    "            eta_theta=ddpm.backward(noisy_imgs, t) # predict noise\n",
    "            \n",
    "            loss = mse(eta_theta, eta)\n",
    "            optim.zero_grad()\n",
    "            loss.backward()\n",
    "            optim.step()\n",
    "            \n",
    "            epoch_loss += loss.item() * len(x0) / len(loader.dataset)\n",
    "            \n",
    "        if display:\n",
    "            show_images(generate_new_images(ddpm, device=device), f\"Images generated at epoch {epoch+1}\")  \n",
    "        \n",
    "        log_string = f\"Loss at epoch{epoch+1}:{epoch_loss:.3f}\"\n",
    "        \n",
    "        # save\n",
    "        if best_loss > epoch_loss:\n",
    "            best_loss = epoch_loss\n",
    "            torch.save(ddpm.state_dict(), store_path)\n",
    "            log_string += \" --> best model\"\n",
    "        print(log_string)"
   ]
  },
  {
   "cell_type": "code",
   "execution_count": null,
   "metadata": {},
   "outputs": [],
   "source": [
    "\n",
    "store_path = \"ddpm_fashion.pt\" if fashion else \"ddpm_mnist.pt\"\n",
    "if train_flag:\n",
    "    training_loop(ddpm, loader, n_epochs, optim, device)\n",
    "    "
   ]
  },
  {
   "cell_type": "code",
   "execution_count": null,
   "metadata": {},
   "outputs": [],
   "source": [
    "# testing and generation\n",
    "best_model = MyDDPM(MyUNet(), n_step = n_steps, device = device)\n",
    "best_model.load_state_dict(torch.load(store_path, map_location = device))\n",
    "best_model.eval()\n",
    "print(\"Module liaded\")"
   ]
  },
  {
   "cell_type": "code",
   "execution_count": null,
   "metadata": {},
   "outputs": [],
   "source": [
    "generated = generated_new_images(\n",
    "    best_model,\n",
    "    n_samples = 100,\n",
    "    device = device,\n",
    "    gif_name = \"fashion.gif\" if fashion else \"mnist.gif\n",
    ")\n",
    "\n",
    "show_images(generated, \"Final result\")"
   ]
  }
 ],
 "metadata": {
  "kernelspec": {
   "display_name": "d2l",
   "language": "python",
   "name": "python3"
  },
  "language_info": {
   "codemirror_mode": {
    "name": "ipython",
    "version": 3
   },
   "file_extension": ".py",
   "mimetype": "text/x-python",
   "name": "python",
   "nbconvert_exporter": "python",
   "pygments_lexer": "ipython3",
   "version": "3.8.16"
  }
 },
 "nbformat": 4,
 "nbformat_minor": 2
}
